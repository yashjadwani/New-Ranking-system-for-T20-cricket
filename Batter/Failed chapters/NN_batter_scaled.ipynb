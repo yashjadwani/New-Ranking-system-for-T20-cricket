{
  "cells": [
    {
      "cell_type": "code",
      "execution_count": 1,
      "metadata": {
        "id": "lwRyOyHW7KxT"
      },
      "outputs": [],
      "source": [
        "import seaborn as sns\n",
        "import matplotlib.pyplot as plt\n",
        "import numpy as np\n",
        "import pandas as pd\n",
        "from sklearn.mixture import GaussianMixture\n",
        "from sklearn.cluster import KMeans\n",
        "from sklearn.decomposition import PCA\n",
        "from sklearn.cluster import AgglomerativeClustering\n",
        "from sklearn.metrics import silhouette_samples, silhouette_score, calinski_harabasz_score\n",
        "import matplotlib.pyplot as plt\n",
        "import matplotlib.cm as cm\n",
        "from sklearn.neighbors import KNeighborsClassifier\n",
        "from xgboost import XGBClassifier\n",
        "from sklearn.model_selection import train_test_split\n",
        "import matplotlib.pyplot as plt\n",
        "from sklearn import metrics\n",
        "from sklearn.ensemble import RandomForestClassifier\n",
        "from itertools import product\n",
        "\n",
        "pd.set_option('display.max_rows', 15)\n",
        "np.random.seed(5)\n",
        "\n",
        "\n",
        "np.random.seed(5)\n",
        "\n",
        "sns.set()\n"
      ]
    },
    {
      "cell_type": "code",
      "execution_count": 2,
      "metadata": {
        "id": "aVXRC3cgZ_h7"
      },
      "outputs": [],
      "source": [
        "import matplotlib.pyplot as plt\n",
        "import keras\n",
        "from keras.datasets import imdb\n",
        "from keras.preprocessing.text import Tokenizer\n",
        "from tensorflow.keras.models import Sequential\n",
        "from tensorflow.keras.layers import Dense\n",
        "import tensorflow as tf\n"
      ]
    },
    {
      "cell_type": "code",
      "execution_count": 3,
      "metadata": {
        "colab": {
          "base_uri": "https://localhost:8080/"
        },
        "id": "JrkKi9gSCk6E",
        "outputId": "9d2d2eb5-2837-4f5d-fded-ff672f7fcc83"
      },
      "outputs": [
        {
          "output_type": "stream",
          "name": "stdout",
          "text": [
            "Mounted at /content/drive\n"
          ]
        }
      ],
      "source": [
        "from google.colab import drive\n",
        "drive.mount('/content/drive')\n",
        "batter = pd.read_csv('/content/drive/MyDrive/Diss/Code/CSV/batter_for_clustering.csv')"
      ]
    },
    {
      "cell_type": "code",
      "execution_count": 4,
      "metadata": {
        "colab": {
          "base_uri": "https://localhost:8080/",
          "height": 424
        },
        "id": "RtW8-U4UD0ts",
        "outputId": "555829f1-3d7a-4d13-a3cf-38caeb32fbcb"
      },
      "outputs": [
        {
          "output_type": "execute_result",
          "data": {
            "text/plain": [
              "      average  strike_rate  boundary_per_ball  boundary_index  \\\n",
              "0       32.48       139.55              0.189           3.829   \n",
              "1       32.66       136.71              0.187           4.185   \n",
              "2       51.50       137.67              0.163           4.382   \n",
              "3       29.84       134.69              0.201           4.109   \n",
              "4       34.69       144.87              0.204           4.337   \n",
              "...       ...          ...                ...             ...   \n",
              "1297     3.00        48.00              0.080           0.500   \n",
              "1298     2.75        29.72              0.054           0.500   \n",
              "1299     2.75        27.50              0.025           0.250   \n",
              "1300     2.25        32.14              0.000           0.000   \n",
              "1301     2.00        27.58              0.000           0.000   \n",
              "\n",
              "      finishing_index  runs_without_boundary_index  big_match_index  \n",
              "0               0.128                       10.350            0.291  \n",
              "1               0.065                       10.750            0.222  \n",
              "2               0.281                       17.438            0.337  \n",
              "3               0.079                        9.149            0.218  \n",
              "4               0.112                       10.910            0.225  \n",
              "...               ...                          ...              ...  \n",
              "1297            0.000                        1.000            0.000  \n",
              "1298            0.000                        0.750            0.000  \n",
              "1299            0.000                        1.750            0.000  \n",
              "1300            0.000                        2.250            0.000  \n",
              "1301            0.000                        2.000            0.000  \n",
              "\n",
              "[1302 rows x 7 columns]"
            ],
            "text/html": [
              "\n",
              "  <div id=\"df-51be1b84-5410-46bb-a224-778e0d031ecf\">\n",
              "    <div class=\"colab-df-container\">\n",
              "      <div>\n",
              "<style scoped>\n",
              "    .dataframe tbody tr th:only-of-type {\n",
              "        vertical-align: middle;\n",
              "    }\n",
              "\n",
              "    .dataframe tbody tr th {\n",
              "        vertical-align: top;\n",
              "    }\n",
              "\n",
              "    .dataframe thead th {\n",
              "        text-align: right;\n",
              "    }\n",
              "</style>\n",
              "<table border=\"1\" class=\"dataframe\">\n",
              "  <thead>\n",
              "    <tr style=\"text-align: right;\">\n",
              "      <th></th>\n",
              "      <th>average</th>\n",
              "      <th>strike_rate</th>\n",
              "      <th>boundary_per_ball</th>\n",
              "      <th>boundary_index</th>\n",
              "      <th>finishing_index</th>\n",
              "      <th>runs_without_boundary_index</th>\n",
              "      <th>big_match_index</th>\n",
              "    </tr>\n",
              "  </thead>\n",
              "  <tbody>\n",
              "    <tr>\n",
              "      <th>0</th>\n",
              "      <td>32.48</td>\n",
              "      <td>139.55</td>\n",
              "      <td>0.189</td>\n",
              "      <td>3.829</td>\n",
              "      <td>0.128</td>\n",
              "      <td>10.350</td>\n",
              "      <td>0.291</td>\n",
              "    </tr>\n",
              "    <tr>\n",
              "      <th>1</th>\n",
              "      <td>32.66</td>\n",
              "      <td>136.71</td>\n",
              "      <td>0.187</td>\n",
              "      <td>4.185</td>\n",
              "      <td>0.065</td>\n",
              "      <td>10.750</td>\n",
              "      <td>0.222</td>\n",
              "    </tr>\n",
              "    <tr>\n",
              "      <th>2</th>\n",
              "      <td>51.50</td>\n",
              "      <td>137.67</td>\n",
              "      <td>0.163</td>\n",
              "      <td>4.382</td>\n",
              "      <td>0.281</td>\n",
              "      <td>17.438</td>\n",
              "      <td>0.337</td>\n",
              "    </tr>\n",
              "    <tr>\n",
              "      <th>3</th>\n",
              "      <td>29.84</td>\n",
              "      <td>134.69</td>\n",
              "      <td>0.201</td>\n",
              "      <td>4.109</td>\n",
              "      <td>0.079</td>\n",
              "      <td>9.149</td>\n",
              "      <td>0.218</td>\n",
              "    </tr>\n",
              "    <tr>\n",
              "      <th>4</th>\n",
              "      <td>34.69</td>\n",
              "      <td>144.87</td>\n",
              "      <td>0.204</td>\n",
              "      <td>4.337</td>\n",
              "      <td>0.112</td>\n",
              "      <td>10.910</td>\n",
              "      <td>0.225</td>\n",
              "    </tr>\n",
              "    <tr>\n",
              "      <th>...</th>\n",
              "      <td>...</td>\n",
              "      <td>...</td>\n",
              "      <td>...</td>\n",
              "      <td>...</td>\n",
              "      <td>...</td>\n",
              "      <td>...</td>\n",
              "      <td>...</td>\n",
              "    </tr>\n",
              "    <tr>\n",
              "      <th>1297</th>\n",
              "      <td>3.00</td>\n",
              "      <td>48.00</td>\n",
              "      <td>0.080</td>\n",
              "      <td>0.500</td>\n",
              "      <td>0.000</td>\n",
              "      <td>1.000</td>\n",
              "      <td>0.000</td>\n",
              "    </tr>\n",
              "    <tr>\n",
              "      <th>1298</th>\n",
              "      <td>2.75</td>\n",
              "      <td>29.72</td>\n",
              "      <td>0.054</td>\n",
              "      <td>0.500</td>\n",
              "      <td>0.000</td>\n",
              "      <td>0.750</td>\n",
              "      <td>0.000</td>\n",
              "    </tr>\n",
              "    <tr>\n",
              "      <th>1299</th>\n",
              "      <td>2.75</td>\n",
              "      <td>27.50</td>\n",
              "      <td>0.025</td>\n",
              "      <td>0.250</td>\n",
              "      <td>0.000</td>\n",
              "      <td>1.750</td>\n",
              "      <td>0.000</td>\n",
              "    </tr>\n",
              "    <tr>\n",
              "      <th>1300</th>\n",
              "      <td>2.25</td>\n",
              "      <td>32.14</td>\n",
              "      <td>0.000</td>\n",
              "      <td>0.000</td>\n",
              "      <td>0.000</td>\n",
              "      <td>2.250</td>\n",
              "      <td>0.000</td>\n",
              "    </tr>\n",
              "    <tr>\n",
              "      <th>1301</th>\n",
              "      <td>2.00</td>\n",
              "      <td>27.58</td>\n",
              "      <td>0.000</td>\n",
              "      <td>0.000</td>\n",
              "      <td>0.000</td>\n",
              "      <td>2.000</td>\n",
              "      <td>0.000</td>\n",
              "    </tr>\n",
              "  </tbody>\n",
              "</table>\n",
              "<p>1302 rows × 7 columns</p>\n",
              "</div>\n",
              "      <button class=\"colab-df-convert\" onclick=\"convertToInteractive('df-51be1b84-5410-46bb-a224-778e0d031ecf')\"\n",
              "              title=\"Convert this dataframe to an interactive table.\"\n",
              "              style=\"display:none;\">\n",
              "        \n",
              "  <svg xmlns=\"http://www.w3.org/2000/svg\" height=\"24px\"viewBox=\"0 0 24 24\"\n",
              "       width=\"24px\">\n",
              "    <path d=\"M0 0h24v24H0V0z\" fill=\"none\"/>\n",
              "    <path d=\"M18.56 5.44l.94 2.06.94-2.06 2.06-.94-2.06-.94-.94-2.06-.94 2.06-2.06.94zm-11 1L8.5 8.5l.94-2.06 2.06-.94-2.06-.94L8.5 2.5l-.94 2.06-2.06.94zm10 10l.94 2.06.94-2.06 2.06-.94-2.06-.94-.94-2.06-.94 2.06-2.06.94z\"/><path d=\"M17.41 7.96l-1.37-1.37c-.4-.4-.92-.59-1.43-.59-.52 0-1.04.2-1.43.59L10.3 9.45l-7.72 7.72c-.78.78-.78 2.05 0 2.83L4 21.41c.39.39.9.59 1.41.59.51 0 1.02-.2 1.41-.59l7.78-7.78 2.81-2.81c.8-.78.8-2.07 0-2.86zM5.41 20L4 18.59l7.72-7.72 1.47 1.35L5.41 20z\"/>\n",
              "  </svg>\n",
              "      </button>\n",
              "      \n",
              "  <style>\n",
              "    .colab-df-container {\n",
              "      display:flex;\n",
              "      flex-wrap:wrap;\n",
              "      gap: 12px;\n",
              "    }\n",
              "\n",
              "    .colab-df-convert {\n",
              "      background-color: #E8F0FE;\n",
              "      border: none;\n",
              "      border-radius: 50%;\n",
              "      cursor: pointer;\n",
              "      display: none;\n",
              "      fill: #1967D2;\n",
              "      height: 32px;\n",
              "      padding: 0 0 0 0;\n",
              "      width: 32px;\n",
              "    }\n",
              "\n",
              "    .colab-df-convert:hover {\n",
              "      background-color: #E2EBFA;\n",
              "      box-shadow: 0px 1px 2px rgba(60, 64, 67, 0.3), 0px 1px 3px 1px rgba(60, 64, 67, 0.15);\n",
              "      fill: #174EA6;\n",
              "    }\n",
              "\n",
              "    [theme=dark] .colab-df-convert {\n",
              "      background-color: #3B4455;\n",
              "      fill: #D2E3FC;\n",
              "    }\n",
              "\n",
              "    [theme=dark] .colab-df-convert:hover {\n",
              "      background-color: #434B5C;\n",
              "      box-shadow: 0px 1px 3px 1px rgba(0, 0, 0, 0.15);\n",
              "      filter: drop-shadow(0px 1px 2px rgba(0, 0, 0, 0.3));\n",
              "      fill: #FFFFFF;\n",
              "    }\n",
              "  </style>\n",
              "\n",
              "      <script>\n",
              "        const buttonEl =\n",
              "          document.querySelector('#df-51be1b84-5410-46bb-a224-778e0d031ecf button.colab-df-convert');\n",
              "        buttonEl.style.display =\n",
              "          google.colab.kernel.accessAllowed ? 'block' : 'none';\n",
              "\n",
              "        async function convertToInteractive(key) {\n",
              "          const element = document.querySelector('#df-51be1b84-5410-46bb-a224-778e0d031ecf');\n",
              "          const dataTable =\n",
              "            await google.colab.kernel.invokeFunction('convertToInteractive',\n",
              "                                                     [key], {});\n",
              "          if (!dataTable) return;\n",
              "\n",
              "          const docLinkHtml = 'Like what you see? Visit the ' +\n",
              "            '<a target=\"_blank\" href=https://colab.research.google.com/notebooks/data_table.ipynb>data table notebook</a>'\n",
              "            + ' to learn more about interactive tables.';\n",
              "          element.innerHTML = '';\n",
              "          dataTable['output_type'] = 'display_data';\n",
              "          await google.colab.output.renderOutput(dataTable, element);\n",
              "          const docLink = document.createElement('div');\n",
              "          docLink.innerHTML = docLinkHtml;\n",
              "          element.appendChild(docLink);\n",
              "        }\n",
              "      </script>\n",
              "    </div>\n",
              "  </div>\n",
              "  "
            ]
          },
          "metadata": {},
          "execution_count": 4
        }
      ],
      "source": [
        "batter_for_clustering = batter.copy().drop(['name','country','prelim_metric','pre-rank'],axis=1)\n",
        "batter_for_clustering"
      ]
    },
    {
      "cell_type": "code",
      "execution_count": 5,
      "metadata": {
        "id": "tnhkapBIRSYu"
      },
      "outputs": [],
      "source": [
        "from sklearn.preprocessing import StandardScaler\n",
        "scaler = StandardScaler()\n",
        "batter_for_clustering_scaled= scaler.fit_transform(batter_for_clustering)"
      ]
    },
    {
      "cell_type": "code",
      "execution_count": 6,
      "metadata": {
        "colab": {
          "base_uri": "https://localhost:8080/"
        },
        "id": "6RE6YTuHP8_5",
        "outputId": "dff11dac-a167-4686-9b51-bed693b4d7eb"
      },
      "outputs": [
        {
          "output_type": "execute_result",
          "data": {
            "text/plain": [
              "array([[ 1.30610588,  1.07729054,  1.1284799 , ..., -0.43954647,\n",
              "         0.98167219,  2.49798607],\n",
              "       [ 1.32361762,  0.97677539,  1.09370896, ..., -0.77585764,\n",
              "         1.09657193,  1.76910627],\n",
              "       [ 3.15651345,  1.01075234,  0.67645768, ...,  0.37720923,\n",
              "         3.0176955 ,  2.98390594],\n",
              "       ...,\n",
              "       [-1.58625044, -2.88845682, -1.72273715, ..., -1.12284536,\n",
              "        -1.48867213, -0.57598526],\n",
              "       [-1.63489417, -2.72423488, -2.1573739 , ..., -1.12284536,\n",
              "        -1.34504746, -0.57598526],\n",
              "       [-1.65921604, -2.88562541, -2.1573739 , ..., -1.12284536,\n",
              "        -1.41685979, -0.57598526]])"
            ]
          },
          "metadata": {},
          "execution_count": 6
        }
      ],
      "source": [
        "batter_for_clustering_scaled"
      ]
    },
    {
      "cell_type": "code",
      "execution_count": 7,
      "metadata": {
        "colab": {
          "base_uri": "https://localhost:8080/",
          "height": 268
        },
        "id": "7OsooDK5JNI7",
        "outputId": "7f9142da-1eb7-491b-bd32-5a1f9778dfdd"
      },
      "outputs": [
        {
          "output_type": "display_data",
          "data": {
            "text/plain": [
              "<Figure size 432x288 with 1 Axes>"
            ],
            "image/png": "[encoded data removed]"
          },
          "metadata": {}
        }
      ],
      "source": [
        "wcss = []\n",
        "for i in range(1,11,1):\n",
        "  model = KMeans(i).fit(batter_for_clustering_scaled)\n",
        "  wcss.append(model.inertia_)\n",
        "plt.plot(np.arange(1,11,1),wcss)\n",
        "plt.show()"
      ]
    },
    {
      "cell_type": "code",
      "execution_count": 8,
      "metadata": {
        "id": "9v-zuE3UTQ8d"
      },
      "outputs": [],
      "source": [
        "kmodel =  KMeans(n_clusters=4)\n",
        "ypred_kmeans = kmodel.fit_predict(batter_for_clustering_scaled)"
      ]
    },
    {
      "cell_type": "code",
      "execution_count": 9,
      "metadata": {
        "colab": {
          "base_uri": "https://localhost:8080/"
        },
        "id": "4qonyhFrTTce",
        "outputId": "0c2153aa-e566-427c-f84d-1a8cf129ebe9"
      },
      "outputs": [
        {
          "output_type": "execute_result",
          "data": {
            "text/plain": [
              "array([3, 3, 3, ..., 1, 1, 1], dtype=int32)"
            ]
          },
          "metadata": {},
          "execution_count": 9
        }
      ],
      "source": [
        "ypred_kmeans"
      ]
    },
    {
      "cell_type": "code",
      "execution_count": 10,
      "metadata": {
        "id": "gv4STkWQT3aC"
      },
      "outputs": [],
      "source": [
        "results = batter\n",
        "results['kmeans'] = ypred_kmeans"
      ]
    },
    {
      "cell_type": "code",
      "execution_count": 11,
      "metadata": {
        "id": "VpKmOWD2g9Nn"
      },
      "outputs": [],
      "source": [
        "X_train, X_test, y_train, y_test = train_test_split(results.drop('kmeans',axis=1), results['kmeans'], test_size=0.2, random_state=42)\n",
        "X_train.drop(['name','country','prelim_metric','pre-rank'],axis=1,inplace=True)\n",
        "X_test.drop(['name','country','prelim_metric','pre-rank'],axis=1,inplace=True)"
      ]
    },
    {
      "cell_type": "code",
      "execution_count": 12,
      "metadata": {
        "id": "_UVO88ahPrdC"
      },
      "outputs": [],
      "source": [
        "X_train = scaler.fit_transform(X_train)"
      ]
    },
    {
      "cell_type": "code",
      "execution_count": 13,
      "metadata": {
        "colab": {
          "base_uri": "https://localhost:8080/"
        },
        "id": "GnLoOj1XPrnq",
        "outputId": "96600f83-0c7f-40e2-8aa7-5f53edc5374c"
      },
      "outputs": [
        {
          "output_type": "execute_result",
          "data": {
            "text/plain": [
              "array([[ 0.61339549,  0.51724582,  0.57358962, ..., -0.72929457,\n",
              "         1.15821178,  1.94904961],\n",
              "       [-0.05356871,  0.4787138 ,  0.21819007, ..., -0.51200904,\n",
              "         0.38774484,  0.70738943],\n",
              "       [-1.15868456,  0.33466888, -0.03058963, ..., -0.54910657,\n",
              "        -0.98049818, -0.58921147],\n",
              "       ...,\n",
              "       [-1.52381094, -2.48717123, -2.19852693, ..., -0.07743798,\n",
              "        -1.1988164 , -0.58921147],\n",
              "       [-0.85489941,  0.00516611, -0.10166954, ...,  1.33756781,\n",
              "        -1.25657254, -0.58921147],\n",
              "       [-0.89092521,  1.40708335,  1.08891898, ..., -0.07743798,\n",
              "        -1.1988164 , -0.58921147]])"
            ]
          },
          "metadata": {},
          "execution_count": 13
        }
      ],
      "source": [
        "X_train"
      ]
    },
    {
      "cell_type": "code",
      "execution_count": 14,
      "metadata": {
        "id": "Cwzyn85gOBEN"
      },
      "outputs": [],
      "source": [
        "model = Sequential()\n",
        "model.add(Dense(12, input_shape=(7,), activation='relu'))\n",
        "model.add(Dense(6, input_shape=(7,), activation='relu'))\n",
        "model.add(Dense(6, input_shape=(7,), activation='relu'))\n",
        "model.add(Dense(4, activation='relu'))\n",
        "model.add(Dense(1, activation='softmax'))"
      ]
    },
    {
      "cell_type": "code",
      "execution_count": 15,
      "metadata": {
        "id": "qp7aqmplYpJ-"
      },
      "outputs": [],
      "source": [
        "model.compile(loss='categorical_crossentropy', optimizer='rmsprop', metrics=['accuracy'])"
      ]
    },
    {
      "cell_type": "code",
      "execution_count": 16,
      "metadata": {
        "colab": {
          "base_uri": "https://localhost:8080/"
        },
        "id": "9rY1jhLiY5z5",
        "outputId": "d6913121-6ac2-4f4f-f4a7-5fc19e899b24"
      },
      "outputs": [
        {
          "output_type": "stream",
          "name": "stdout",
          "text": [
            "Epoch 1/150\n",
            "105/105 [==============================] - 1s 2ms/step - loss: 0.0000e+00 - accuracy: 0.3468\n",
            "Epoch 2/150\n",
            "105/105 [==============================] - 0s 1ms/step - loss: 0.0000e+00 - accuracy: 0.3468\n",
            "Epoch 3/150\n",
            "105/105 [==============================] - 0s 2ms/step - loss: 0.0000e+00 - accuracy: 0.3468\n",
            "Epoch 4/150\n",
            "105/105 [==============================] - 0s 2ms/step - loss: 0.0000e+00 - accuracy: 0.3468\n",
            "Epoch 5/150\n",
            "105/105 [==============================] - 0s 2ms/step - loss: 0.0000e+00 - accuracy: 0.3468\n",
            "Epoch 6/150\n",
            "105/105 [==============================] - 0s 2ms/step - loss: 0.0000e+00 - accuracy: 0.3468\n",
            "Epoch 7/150\n",
            "105/105 [==============================] - 0s 2ms/step - loss: 0.0000e+00 - accuracy: 0.3468\n",
            "Epoch 8/150\n",
            "105/105 [==============================] - 0s 2ms/step - loss: 0.0000e+00 - accuracy: 0.3468\n",
            "Epoch 9/150\n",
            "105/105 [==============================] - 0s 2ms/step - loss: 0.0000e+00 - accuracy: 0.3468\n",
            "Epoch 10/150\n",
            "105/105 [==============================] - 0s 2ms/step - loss: 0.0000e+00 - accuracy: 0.3468\n",
            "Epoch 11/150\n",
            "105/105 [==============================] - 0s 2ms/step - loss: 0.0000e+00 - accuracy: 0.3468\n",
            "Epoch 12/150\n",
            "105/105 [==============================] - 0s 2ms/step - loss: 0.0000e+00 - accuracy: 0.3468\n",
            "Epoch 13/150\n",
            "105/105 [==============================] - 0s 2ms/step - loss: 0.0000e+00 - accuracy: 0.3468\n",
            "Epoch 14/150\n",
            "105/105 [==============================] - 0s 2ms/step - loss: 0.0000e+00 - accuracy: 0.3468\n",
            "Epoch 15/150\n",
            "105/105 [==============================] - 0s 2ms/step - loss: 0.0000e+00 - accuracy: 0.3468\n",
            "Epoch 16/150\n",
            "105/105 [==============================] - 0s 2ms/step - loss: 0.0000e+00 - accuracy: 0.3468\n",
            "Epoch 17/150\n",
            "105/105 [==============================] - 0s 2ms/step - loss: 0.0000e+00 - accuracy: 0.3468\n",
            "Epoch 18/150\n",
            "105/105 [==============================] - 0s 2ms/step - loss: 0.0000e+00 - accuracy: 0.3468\n",
            "Epoch 19/150\n",
            "105/105 [==============================] - 0s 2ms/step - loss: 0.0000e+00 - accuracy: 0.3468\n",
            "Epoch 20/150\n",
            "105/105 [==============================] - 0s 2ms/step - loss: 0.0000e+00 - accuracy: 0.3468\n",
            "Epoch 21/150\n",
            "105/105 [==============================] - 0s 2ms/step - loss: 0.0000e+00 - accuracy: 0.3468\n",
            "Epoch 22/150\n",
            "105/105 [==============================] - 0s 2ms/step - loss: 0.0000e+00 - accuracy: 0.3468\n",
            "Epoch 23/150\n",
            "105/105 [==============================] - 0s 2ms/step - loss: 0.0000e+00 - accuracy: 0.3468\n",
            "Epoch 24/150\n",
            "105/105 [==============================] - 0s 2ms/step - loss: 0.0000e+00 - accuracy: 0.3468\n",
            "Epoch 25/150\n",
            "105/105 [==============================] - 0s 2ms/step - loss: 0.0000e+00 - accuracy: 0.3468\n",
            "Epoch 26/150\n",
            "105/105 [==============================] - 0s 2ms/step - loss: 0.0000e+00 - accuracy: 0.3468\n",
            "Epoch 27/150\n",
            "105/105 [==============================] - 0s 2ms/step - loss: 0.0000e+00 - accuracy: 0.3468\n",
            "Epoch 28/150\n",
            "105/105 [==============================] - 0s 2ms/step - loss: 0.0000e+00 - accuracy: 0.3468\n",
            "Epoch 29/150\n",
            "105/105 [==============================] - 0s 2ms/step - loss: 0.0000e+00 - accuracy: 0.3468\n",
            "Epoch 30/150\n",
            "105/105 [==============================] - 0s 2ms/step - loss: 0.0000e+00 - accuracy: 0.3468\n",
            "Epoch 31/150\n",
            "105/105 [==============================] - 0s 2ms/step - loss: 0.0000e+00 - accuracy: 0.3468\n",
            "Epoch 32/150\n",
            "105/105 [==============================] - 0s 1ms/step - loss: 0.0000e+00 - accuracy: 0.3468\n",
            "Epoch 33/150\n",
            "105/105 [==============================] - 0s 2ms/step - loss: 0.0000e+00 - accuracy: 0.3468\n",
            "Epoch 34/150\n",
            "105/105 [==============================] - 0s 2ms/step - loss: 0.0000e+00 - accuracy: 0.3468\n",
            "Epoch 35/150\n",
            "105/105 [==============================] - 0s 2ms/step - loss: 0.0000e+00 - accuracy: 0.3468\n",
            "Epoch 36/150\n",
            "105/105 [==============================] - 0s 2ms/step - loss: 0.0000e+00 - accuracy: 0.3468\n",
            "Epoch 37/150\n",
            "105/105 [==============================] - 0s 2ms/step - loss: 0.0000e+00 - accuracy: 0.3468\n",
            "Epoch 38/150\n",
            "105/105 [==============================] - 0s 2ms/step - loss: 0.0000e+00 - accuracy: 0.3468\n",
            "Epoch 39/150\n",
            "105/105 [==============================] - 0s 2ms/step - loss: 0.0000e+00 - accuracy: 0.3468\n",
            "Epoch 40/150\n",
            "105/105 [==============================] - 0s 2ms/step - loss: 0.0000e+00 - accuracy: 0.3468\n",
            "Epoch 41/150\n",
            "105/105 [==============================] - 0s 2ms/step - loss: 0.0000e+00 - accuracy: 0.3468\n",
            "Epoch 42/150\n",
            "105/105 [==============================] - 0s 2ms/step - loss: 0.0000e+00 - accuracy: 0.3468\n",
            "Epoch 43/150\n",
            "105/105 [==============================] - 0s 2ms/step - loss: 0.0000e+00 - accuracy: 0.3468\n",
            "Epoch 44/150\n",
            "105/105 [==============================] - 0s 2ms/step - loss: 0.0000e+00 - accuracy: 0.3468\n",
            "Epoch 45/150\n",
            "105/105 [==============================] - 0s 2ms/step - loss: 0.0000e+00 - accuracy: 0.3468\n",
            "Epoch 46/150\n",
            "105/105 [==============================] - 0s 2ms/step - loss: 0.0000e+00 - accuracy: 0.3468\n",
            "Epoch 47/150\n",
            "105/105 [==============================] - 0s 2ms/step - loss: 0.0000e+00 - accuracy: 0.3468\n",
            "Epoch 48/150\n",
            "105/105 [==============================] - 0s 2ms/step - loss: 0.0000e+00 - accuracy: 0.3468\n",
            "Epoch 49/150\n",
            "105/105 [==============================] - 0s 2ms/step - loss: 0.0000e+00 - accuracy: 0.3468\n",
            "Epoch 50/150\n",
            "105/105 [==============================] - 0s 2ms/step - loss: 0.0000e+00 - accuracy: 0.3468\n",
            "Epoch 51/150\n",
            "105/105 [==============================] - 0s 2ms/step - loss: 0.0000e+00 - accuracy: 0.3468\n",
            "Epoch 52/150\n",
            "105/105 [==============================] - 0s 2ms/step - loss: 0.0000e+00 - accuracy: 0.3468\n",
            "Epoch 53/150\n",
            "105/105 [==============================] - 0s 2ms/step - loss: 0.0000e+00 - accuracy: 0.3468\n",
            "Epoch 54/150\n",
            "105/105 [==============================] - 0s 1ms/step - loss: 0.0000e+00 - accuracy: 0.3468\n",
            "Epoch 55/150\n",
            "105/105 [==============================] - 0s 2ms/step - loss: 0.0000e+00 - accuracy: 0.3468\n",
            "Epoch 56/150\n",
            "105/105 [==============================] - 0s 2ms/step - loss: 0.0000e+00 - accuracy: 0.3468\n",
            "Epoch 57/150\n",
            "105/105 [==============================] - 0s 2ms/step - loss: 0.0000e+00 - accuracy: 0.3468\n",
            "Epoch 58/150\n",
            "105/105 [==============================] - 0s 2ms/step - loss: 0.0000e+00 - accuracy: 0.3468\n",
            "Epoch 59/150\n",
            "105/105 [==============================] - 0s 2ms/step - loss: 0.0000e+00 - accuracy: 0.3468\n",
            "Epoch 60/150\n",
            "105/105 [==============================] - 0s 2ms/step - loss: 0.0000e+00 - accuracy: 0.3468\n",
            "Epoch 61/150\n",
            "105/105 [==============================] - 0s 2ms/step - loss: 0.0000e+00 - accuracy: 0.3468\n",
            "Epoch 62/150\n",
            "105/105 [==============================] - 0s 2ms/step - loss: 0.0000e+00 - accuracy: 0.3468\n",
            "Epoch 63/150\n",
            "105/105 [==============================] - 0s 2ms/step - loss: 0.0000e+00 - accuracy: 0.3468\n",
            "Epoch 64/150\n",
            "105/105 [==============================] - 0s 2ms/step - loss: 0.0000e+00 - accuracy: 0.3468\n",
            "Epoch 65/150\n",
            "105/105 [==============================] - 0s 1ms/step - loss: 0.0000e+00 - accuracy: 0.3468\n",
            "Epoch 66/150\n",
            "105/105 [==============================] - 0s 2ms/step - loss: 0.0000e+00 - accuracy: 0.3468\n",
            "Epoch 67/150\n",
            "105/105 [==============================] - 0s 2ms/step - loss: 0.0000e+00 - accuracy: 0.3468\n",
            "Epoch 68/150\n",
            "105/105 [==============================] - 0s 1ms/step - loss: 0.0000e+00 - accuracy: 0.3468\n",
            "Epoch 69/150\n",
            "105/105 [==============================] - 0s 2ms/step - loss: 0.0000e+00 - accuracy: 0.3468\n",
            "Epoch 70/150\n",
            "105/105 [==============================] - 0s 2ms/step - loss: 0.0000e+00 - accuracy: 0.3468\n",
            "Epoch 71/150\n",
            "105/105 [==============================] - 0s 1ms/step - loss: 0.0000e+00 - accuracy: 0.3468\n",
            "Epoch 72/150\n",
            "105/105 [==============================] - 0s 2ms/step - loss: 0.0000e+00 - accuracy: 0.3468\n",
            "Epoch 73/150\n",
            "105/105 [==============================] - 0s 2ms/step - loss: 0.0000e+00 - accuracy: 0.3468\n",
            "Epoch 74/150\n",
            "105/105 [==============================] - 0s 2ms/step - loss: 0.0000e+00 - accuracy: 0.3468\n",
            "Epoch 75/150\n",
            "105/105 [==============================] - 0s 2ms/step - loss: 0.0000e+00 - accuracy: 0.3468\n",
            "Epoch 76/150\n",
            "105/105 [==============================] - 0s 2ms/step - loss: 0.0000e+00 - accuracy: 0.3468\n",
            "Epoch 77/150\n",
            "105/105 [==============================] - 0s 2ms/step - loss: 0.0000e+00 - accuracy: 0.3468\n",
            "Epoch 78/150\n",
            "105/105 [==============================] - 0s 2ms/step - loss: 0.0000e+00 - accuracy: 0.3468\n",
            "Epoch 79/150\n",
            "105/105 [==============================] - 0s 2ms/step - loss: 0.0000e+00 - accuracy: 0.3468\n",
            "Epoch 80/150\n",
            "105/105 [==============================] - 0s 2ms/step - loss: 0.0000e+00 - accuracy: 0.3468\n",
            "Epoch 81/150\n",
            "105/105 [==============================] - 0s 2ms/step - loss: 0.0000e+00 - accuracy: 0.3468\n",
            "Epoch 82/150\n",
            "105/105 [==============================] - 0s 2ms/step - loss: 0.0000e+00 - accuracy: 0.3468\n",
            "Epoch 83/150\n",
            "105/105 [==============================] - 0s 2ms/step - loss: 0.0000e+00 - accuracy: 0.3468\n",
            "Epoch 84/150\n",
            "105/105 [==============================] - 0s 2ms/step - loss: 0.0000e+00 - accuracy: 0.3468\n",
            "Epoch 85/150\n",
            "105/105 [==============================] - 0s 2ms/step - loss: 0.0000e+00 - accuracy: 0.3468\n",
            "Epoch 86/150\n",
            "105/105 [==============================] - 0s 2ms/step - loss: 0.0000e+00 - accuracy: 0.3468\n",
            "Epoch 87/150\n",
            "105/105 [==============================] - 0s 2ms/step - loss: 0.0000e+00 - accuracy: 0.3468\n",
            "Epoch 88/150\n",
            "105/105 [==============================] - 0s 2ms/step - loss: 0.0000e+00 - accuracy: 0.3468\n",
            "Epoch 89/150\n",
            "105/105 [==============================] - 0s 2ms/step - loss: 0.0000e+00 - accuracy: 0.3468\n",
            "Epoch 90/150\n",
            "105/105 [==============================] - 0s 2ms/step - loss: 0.0000e+00 - accuracy: 0.3468\n",
            "Epoch 91/150\n",
            "105/105 [==============================] - 0s 2ms/step - loss: 0.0000e+00 - accuracy: 0.3468\n",
            "Epoch 92/150\n",
            "105/105 [==============================] - 0s 2ms/step - loss: 0.0000e+00 - accuracy: 0.3468\n",
            "Epoch 93/150\n",
            "105/105 [==============================] - 0s 2ms/step - loss: 0.0000e+00 - accuracy: 0.3468\n",
            "Epoch 94/150\n",
            "105/105 [==============================] - 0s 2ms/step - loss: 0.0000e+00 - accuracy: 0.3468\n",
            "Epoch 95/150\n",
            "105/105 [==============================] - 0s 2ms/step - loss: 0.0000e+00 - accuracy: 0.3468\n",
            "Epoch 96/150\n",
            "105/105 [==============================] - 0s 1ms/step - loss: 0.0000e+00 - accuracy: 0.3468\n",
            "Epoch 97/150\n",
            "105/105 [==============================] - 0s 2ms/step - loss: 0.0000e+00 - accuracy: 0.3468\n",
            "Epoch 98/150\n",
            "105/105 [==============================] - 0s 2ms/step - loss: 0.0000e+00 - accuracy: 0.3468\n",
            "Epoch 99/150\n",
            "105/105 [==============================] - 0s 2ms/step - loss: 0.0000e+00 - accuracy: 0.3468\n",
            "Epoch 100/150\n",
            "105/105 [==============================] - 0s 2ms/step - loss: 0.0000e+00 - accuracy: 0.3468\n",
            "Epoch 101/150\n",
            "105/105 [==============================] - 0s 2ms/step - loss: 0.0000e+00 - accuracy: 0.3468\n",
            "Epoch 102/150\n",
            "105/105 [==============================] - 0s 2ms/step - loss: 0.0000e+00 - accuracy: 0.3468\n",
            "Epoch 103/150\n",
            "105/105 [==============================] - 0s 2ms/step - loss: 0.0000e+00 - accuracy: 0.3468\n",
            "Epoch 104/150\n",
            "105/105 [==============================] - 0s 2ms/step - loss: 0.0000e+00 - accuracy: 0.3468\n",
            "Epoch 105/150\n",
            "105/105 [==============================] - 0s 2ms/step - loss: 0.0000e+00 - accuracy: 0.3468\n",
            "Epoch 106/150\n",
            "105/105 [==============================] - 0s 2ms/step - loss: 0.0000e+00 - accuracy: 0.3468\n",
            "Epoch 107/150\n",
            "105/105 [==============================] - 0s 2ms/step - loss: 0.0000e+00 - accuracy: 0.3468\n",
            "Epoch 108/150\n",
            "105/105 [==============================] - 0s 2ms/step - loss: 0.0000e+00 - accuracy: 0.3468\n",
            "Epoch 109/150\n",
            "105/105 [==============================] - 0s 2ms/step - loss: 0.0000e+00 - accuracy: 0.3468\n",
            "Epoch 110/150\n",
            "105/105 [==============================] - 0s 2ms/step - loss: 0.0000e+00 - accuracy: 0.3468\n",
            "Epoch 111/150\n",
            "105/105 [==============================] - 0s 2ms/step - loss: 0.0000e+00 - accuracy: 0.3468\n",
            "Epoch 112/150\n",
            "105/105 [==============================] - 0s 2ms/step - loss: 0.0000e+00 - accuracy: 0.3468\n",
            "Epoch 113/150\n",
            "105/105 [==============================] - 0s 2ms/step - loss: 0.0000e+00 - accuracy: 0.3468\n",
            "Epoch 114/150\n",
            "105/105 [==============================] - 0s 2ms/step - loss: 0.0000e+00 - accuracy: 0.3468\n",
            "Epoch 115/150\n",
            "105/105 [==============================] - 0s 2ms/step - loss: 0.0000e+00 - accuracy: 0.3468\n",
            "Epoch 116/150\n",
            "105/105 [==============================] - 0s 2ms/step - loss: 0.0000e+00 - accuracy: 0.3468\n",
            "Epoch 117/150\n",
            "105/105 [==============================] - 0s 2ms/step - loss: 0.0000e+00 - accuracy: 0.3468\n",
            "Epoch 118/150\n",
            "105/105 [==============================] - 0s 2ms/step - loss: 0.0000e+00 - accuracy: 0.3468\n",
            "Epoch 119/150\n",
            "105/105 [==============================] - 0s 2ms/step - loss: 0.0000e+00 - accuracy: 0.3468\n",
            "Epoch 120/150\n",
            "105/105 [==============================] - 0s 2ms/step - loss: 0.0000e+00 - accuracy: 0.3468\n",
            "Epoch 121/150\n",
            "105/105 [==============================] - 0s 1ms/step - loss: 0.0000e+00 - accuracy: 0.3468\n",
            "Epoch 122/150\n",
            "105/105 [==============================] - 0s 1ms/step - loss: 0.0000e+00 - accuracy: 0.3468\n",
            "Epoch 123/150\n",
            "105/105 [==============================] - 0s 2ms/step - loss: 0.0000e+00 - accuracy: 0.3468\n",
            "Epoch 124/150\n",
            "105/105 [==============================] - 0s 2ms/step - loss: 0.0000e+00 - accuracy: 0.3468\n",
            "Epoch 125/150\n",
            "105/105 [==============================] - 0s 2ms/step - loss: 0.0000e+00 - accuracy: 0.3468\n",
            "Epoch 126/150\n",
            "105/105 [==============================] - 0s 2ms/step - loss: 0.0000e+00 - accuracy: 0.3468\n",
            "Epoch 127/150\n",
            "105/105 [==============================] - 0s 2ms/step - loss: 0.0000e+00 - accuracy: 0.3468\n",
            "Epoch 128/150\n",
            "105/105 [==============================] - 0s 2ms/step - loss: 0.0000e+00 - accuracy: 0.3468\n",
            "Epoch 129/150\n",
            "105/105 [==============================] - 0s 2ms/step - loss: 0.0000e+00 - accuracy: 0.3468\n",
            "Epoch 130/150\n",
            "105/105 [==============================] - 0s 2ms/step - loss: 0.0000e+00 - accuracy: 0.3468\n",
            "Epoch 131/150\n",
            "105/105 [==============================] - 0s 2ms/step - loss: 0.0000e+00 - accuracy: 0.3468\n",
            "Epoch 132/150\n",
            "105/105 [==============================] - 0s 2ms/step - loss: 0.0000e+00 - accuracy: 0.3468\n",
            "Epoch 133/150\n",
            "105/105 [==============================] - 0s 2ms/step - loss: 0.0000e+00 - accuracy: 0.3468\n",
            "Epoch 134/150\n",
            "105/105 [==============================] - 0s 2ms/step - loss: 0.0000e+00 - accuracy: 0.3468\n",
            "Epoch 135/150\n",
            "105/105 [==============================] - 0s 2ms/step - loss: 0.0000e+00 - accuracy: 0.3468\n",
            "Epoch 136/150\n",
            "105/105 [==============================] - 0s 2ms/step - loss: 0.0000e+00 - accuracy: 0.3468\n",
            "Epoch 137/150\n",
            "105/105 [==============================] - 0s 2ms/step - loss: 0.0000e+00 - accuracy: 0.3468\n",
            "Epoch 138/150\n",
            "105/105 [==============================] - 0s 2ms/step - loss: 0.0000e+00 - accuracy: 0.3468\n",
            "Epoch 139/150\n",
            "105/105 [==============================] - 0s 2ms/step - loss: 0.0000e+00 - accuracy: 0.3468\n",
            "Epoch 140/150\n",
            "105/105 [==============================] - 0s 2ms/step - loss: 0.0000e+00 - accuracy: 0.3468\n",
            "Epoch 141/150\n",
            "105/105 [==============================] - 0s 2ms/step - loss: 0.0000e+00 - accuracy: 0.3468\n",
            "Epoch 142/150\n",
            "105/105 [==============================] - 0s 2ms/step - loss: 0.0000e+00 - accuracy: 0.3468\n",
            "Epoch 143/150\n",
            "105/105 [==============================] - 0s 2ms/step - loss: 0.0000e+00 - accuracy: 0.3468\n",
            "Epoch 144/150\n",
            "105/105 [==============================] - 0s 2ms/step - loss: 0.0000e+00 - accuracy: 0.3468\n",
            "Epoch 145/150\n",
            "105/105 [==============================] - 0s 2ms/step - loss: 0.0000e+00 - accuracy: 0.3468\n",
            "Epoch 146/150\n",
            "105/105 [==============================] - 0s 2ms/step - loss: 0.0000e+00 - accuracy: 0.3468\n",
            "Epoch 147/150\n",
            "105/105 [==============================] - 0s 2ms/step - loss: 0.0000e+00 - accuracy: 0.3468\n",
            "Epoch 148/150\n",
            "105/105 [==============================] - 0s 2ms/step - loss: 0.0000e+00 - accuracy: 0.3468\n",
            "Epoch 149/150\n",
            "105/105 [==============================] - 0s 2ms/step - loss: 0.0000e+00 - accuracy: 0.3468\n",
            "Epoch 150/150\n",
            "105/105 [==============================] - 0s 2ms/step - loss: 0.0000e+00 - accuracy: 0.3468\n"
          ]
        },
        {
          "output_type": "execute_result",
          "data": {
            "text/plain": [
              "<keras.callbacks.History at 0x7f68402ea490>"
            ]
          },
          "metadata": {},
          "execution_count": 16
        }
      ],
      "source": [
        "model.fit(X_train, y_train, epochs=150, batch_size=10)"
      ]
    },
    {
      "cell_type": "code",
      "execution_count": 17,
      "metadata": {
        "id": "sqZ70DbpY_6m"
      },
      "outputs": [],
      "source": [
        "accuracy = model.evaluate(X_train, y_train, verbose=0)"
      ]
    },
    {
      "cell_type": "code",
      "execution_count": 18,
      "metadata": {
        "colab": {
          "base_uri": "https://localhost:8080/"
        },
        "id": "1g5pvAS5ZY7o",
        "outputId": "b5e31fd4-8a46-4271-86c3-36f892faabbb"
      },
      "outputs": [
        {
          "output_type": "execute_result",
          "data": {
            "text/plain": [
              "[0.0, 0.3467819392681122]"
            ]
          },
          "metadata": {},
          "execution_count": 18
        }
      ],
      "source": [
        "accuracy"
      ]
    },
    {
      "cell_type": "code",
      "source": [],
      "metadata": {
        "id": "-htd7gBvH7WQ"
      },
      "execution_count": 18,
      "outputs": []
    }
  ],
  "metadata": {
    "colab": {
      "collapsed_sections": [],
      "provenance": []
    },
    "kernelspec": {
      "display_name": "Python 3.10.5 64-bit",
      "language": "python",
      "name": "python3"
    },
    "language_info": {
      "codemirror_mode": {
        "name": "ipython",
        "version": 3
      },
      "file_extension": ".py",
      "mimetype": "text/x-python",
      "name": "python",
      "nbconvert_exporter": "python",
      "pygments_lexer": "ipython3",
      "version": "3.10.5"
    },
    "vscode": {
      "interpreter": {
        "hash": "632a089d9c3e5f5313eb23db8fc35444a1816d4543bc4005404f53d5c27b79cd"
      }
    }
  },
  "nbformat": 4,
  "nbformat_minor": 0
}